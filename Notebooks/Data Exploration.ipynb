{
 "cells": [
  {
   "cell_type": "markdown",
   "metadata": {},
   "source": [
    "# Data Exploration Notebook\n",
    "\n",
    "## 1. Load Data + Basic Stats\n",
    "\n",
    "Ultimately the full BYU dataset was so large that trying to train and test a model on it was computionally prohibitive on my machine. Therefore I performed a simple random sample of around 5% of the users and conducted my analysis on this subset. The work in this notebook and the \"Tuning and Evaluation\" notebook is all done on this subset. See the file \"sampling_joining.py\" in the code folder for more details on how this sampling was done."
   ]
  },
  {
   "cell_type": "code",
   "execution_count": 15,
   "metadata": {},
   "outputs": [],
   "source": [
    "import numpy as np\n",
    "import pandas as pd"
   ]
  },
  {
   "cell_type": "code",
   "execution_count": 16,
   "metadata": {},
   "outputs": [
    {
     "name": "stdout",
     "output_type": "stream",
     "text": [
      "(5979618, 3)\n"
     ]
    },
    {
     "data": {
      "text/html": [
       "<div>\n",
       "<style scoped>\n",
       "    .dataframe tbody tr th:only-of-type {\n",
       "        vertical-align: middle;\n",
       "    }\n",
       "\n",
       "    .dataframe tbody tr th {\n",
       "        vertical-align: top;\n",
       "    }\n",
       "\n",
       "    .dataframe thead th {\n",
       "        text-align: right;\n",
       "    }\n",
       "</style>\n",
       "<table border=\"1\" class=\"dataframe\">\n",
       "  <thead>\n",
       "    <tr style=\"text-align: right;\">\n",
       "      <th></th>\n",
       "      <th>steam_id</th>\n",
       "      <th>app_id</th>\n",
       "      <th>interact</th>\n",
       "    </tr>\n",
       "  </thead>\n",
       "  <tbody>\n",
       "    <tr>\n",
       "      <th>0</th>\n",
       "      <td>54842929</td>\n",
       "      <td>10500</td>\n",
       "      <td>1</td>\n",
       "    </tr>\n",
       "    <tr>\n",
       "      <th>1</th>\n",
       "      <td>54842929</td>\n",
       "      <td>34030</td>\n",
       "      <td>1</td>\n",
       "    </tr>\n",
       "    <tr>\n",
       "      <th>2</th>\n",
       "      <td>54842929</td>\n",
       "      <td>34330</td>\n",
       "      <td>1</td>\n",
       "    </tr>\n",
       "    <tr>\n",
       "      <th>3</th>\n",
       "      <td>54842929</td>\n",
       "      <td>48700</td>\n",
       "      <td>1</td>\n",
       "    </tr>\n",
       "    <tr>\n",
       "      <th>4</th>\n",
       "      <td>54842929</td>\n",
       "      <td>48720</td>\n",
       "      <td>1</td>\n",
       "    </tr>\n",
       "  </tbody>\n",
       "</table>\n",
       "</div>"
      ],
      "text/plain": [
       "   steam_id  app_id  interact\n",
       "0  54842929   10500         1\n",
       "1  54842929   34030         1\n",
       "2  54842929   34330         1\n",
       "3  54842929   48700         1\n",
       "4  54842929   48720         1"
      ]
     },
     "execution_count": 16,
     "metadata": {},
     "output_type": "execute_result"
    }
   ],
   "source": [
    "# Load the data\n",
    "path = \"/Volumes/Samsung_T5/Data/little_array.npy\"\n",
    "data = pd.DataFrame(np.load(path),columns = ['steam_id','app_id','interact'])\n",
    "\n",
    "# Renumber steam_id's to smaller range\n",
    "smallest = np.min(data['steam_id'])\n",
    "data['steam_id'] = data['steam_id']- smallest\n",
    "print(data.shape)\n",
    "data.head()"
   ]
  },
  {
   "cell_type": "code",
   "execution_count": 10,
   "metadata": {},
   "outputs": [
    {
     "name": "stdout",
     "output_type": "stream",
     "text": [
      "Numer of unique users =  169184\n",
      "Number of unique games =  3626\n"
     ]
    }
   ],
   "source": [
    "num_users = len(data['steam_id'].unique())\n",
    "num_games = len(data['app_id'].unique())\n",
    "\n",
    "print('Numer of unique users = ', num_users)\n",
    "print('Number of unique games = ', num_games)"
   ]
  },
  {
   "cell_type": "code",
   "execution_count": 11,
   "metadata": {},
   "outputs": [
    {
     "name": "stdout",
     "output_type": "stream",
     "text": [
      "Sparsity:  0.9747345318591502 %\n"
     ]
    }
   ],
   "source": [
    "# Compute missingness\n",
    "num_ratings = len(data)\n",
    "print('Sparsity: ', 100*num_ratings/(num_users*num_games), '%')"
   ]
  },
  {
   "cell_type": "markdown",
   "metadata": {},
   "source": [
    "After loading the data we compute the number of unique users and games. We find that there are ~179 thousand users and ~3600 games in our dataset. However, most users have purchased only a small number of games. \n",
    "\n",
    "If we were to pivot this table, we'd get our ratings matrix $R$ with $R_{ij}=1$ if user $i$ purchased game $j$. We don't do this because such a table would not fit in memory, but we can compute the rate of 1's in this matrix without computing it. This is the sparsity calculation above, which shows that only 0.97% of the values in $R$ are 1."
   ]
  },
  {
   "cell_type": "markdown",
   "metadata": {},
   "source": [
    "## 2. How many games do users have?\n",
    "\n",
    "To study the sparsity further, we compute the average and median number of games purchased by individual users, as well as plot a histogram of the number of games users own. We see that we have a long right tail, with most users owning between 10-50 games. \n",
    "\n",
    "*Note*: the BYU dataset is even more left-leaning, before this I had already removed users who rated fewer than 10 games."
   ]
  },
  {
   "cell_type": "code",
   "execution_count": 12,
   "metadata": {},
   "outputs": [
    {
     "name": "stdout",
     "output_type": "stream",
     "text": [
      "Average number of games =  35.343874125212785\n",
      "Median number of games =  19.0\n"
     ]
    }
   ],
   "source": [
    "# Group by steam_id\n",
    "user_game_counts = data[['steam_id','interact']].groupby(['steam_id']).sum()\n",
    "print('Average number of games = ', np.mean(user_game_counts['interact']))\n",
    "print('Median number of games = ', np.median(user_game_counts['interact']))"
   ]
  },
  {
   "cell_type": "code",
   "execution_count": 13,
   "metadata": {},
   "outputs": [
    {
     "data": {
      "image/png": "[encoded data removed]",
      "text/plain": [
       "<Figure size 432x288 with 1 Axes>"
      ]
     },
     "metadata": {
      "needs_background": "light"
     },
     "output_type": "display_data"
    }
   ],
   "source": [
    "# Make Histogram\n",
    "import matplotlib.pyplot as plt\n",
    "plt.hist(user_game_counts['interact'],bins=range(10,510,10))\n",
    "plt.show()"
   ]
  },
  {
   "cell_type": "markdown",
   "metadata": {},
   "source": [
    "## 3. Most Popular Games\n",
    "\n",
    "We can also see which games are the most popular, i.e. which have been purchased the most times. Perhaps unsurprisingly, all of the top titles were released by Valve, the company that owns and operates Steam. Initially Steam only distributed Valve games and since this data was collected in 2013, this could explain the heavy Valve favoritism."
   ]
  },
  {
   "cell_type": "code",
   "execution_count": 14,
   "metadata": {},
   "outputs": [
    {
     "data": {
      "text/html": [
       "<div>\n",
       "<style scoped>\n",
       "    .dataframe tbody tr th:only-of-type {\n",
       "        vertical-align: middle;\n",
       "    }\n",
       "\n",
       "    .dataframe tbody tr th {\n",
       "        vertical-align: top;\n",
       "    }\n",
       "\n",
       "    .dataframe thead th {\n",
       "        text-align: right;\n",
       "    }\n",
       "</style>\n",
       "<table border=\"1\" class=\"dataframe\">\n",
       "  <thead>\n",
       "    <tr style=\"text-align: right;\">\n",
       "      <th></th>\n",
       "      <th>app_id</th>\n",
       "      <th>Downloads</th>\n",
       "      <th>App Name</th>\n",
       "    </tr>\n",
       "  </thead>\n",
       "  <tbody>\n",
       "    <tr>\n",
       "      <th>17</th>\n",
       "      <td>340</td>\n",
       "      <td>97485</td>\n",
       "      <td>Half-Life 2: Lost Coast</td>\n",
       "    </tr>\n",
       "    <tr>\n",
       "      <th>13</th>\n",
       "      <td>240</td>\n",
       "      <td>89539</td>\n",
       "      <td>Counter-Strike: Source</td>\n",
       "    </tr>\n",
       "    <tr>\n",
       "      <th>16</th>\n",
       "      <td>320</td>\n",
       "      <td>81463</td>\n",
       "      <td>Half-Life 2: Deathmatch</td>\n",
       "    </tr>\n",
       "    <tr>\n",
       "      <th>12</th>\n",
       "      <td>220</td>\n",
       "      <td>79254</td>\n",
       "      <td>Half-Life 2</td>\n",
       "    </tr>\n",
       "    <tr>\n",
       "      <th>20</th>\n",
       "      <td>400</td>\n",
       "      <td>71858</td>\n",
       "      <td>Portal</td>\n",
       "    </tr>\n",
       "    <tr>\n",
       "      <th>0</th>\n",
       "      <td>10</td>\n",
       "      <td>67586</td>\n",
       "      <td>Counter-Strike</td>\n",
       "    </tr>\n",
       "    <tr>\n",
       "      <th>24</th>\n",
       "      <td>550</td>\n",
       "      <td>64161</td>\n",
       "      <td>Left 4 Dead 2</td>\n",
       "    </tr>\n",
       "    <tr>\n",
       "      <th>2296</th>\n",
       "      <td>223530</td>\n",
       "      <td>63891</td>\n",
       "      <td>Left 4 Dead 2 Beta</td>\n",
       "    </tr>\n",
       "    <tr>\n",
       "      <th>2</th>\n",
       "      <td>30</td>\n",
       "      <td>56089</td>\n",
       "      <td>Day of Defeat</td>\n",
       "    </tr>\n",
       "    <tr>\n",
       "      <th>3</th>\n",
       "      <td>40</td>\n",
       "      <td>55431</td>\n",
       "      <td>Deathmatch Classic</td>\n",
       "    </tr>\n",
       "    <tr>\n",
       "      <th>5</th>\n",
       "      <td>60</td>\n",
       "      <td>55089</td>\n",
       "      <td>Ricochet</td>\n",
       "    </tr>\n",
       "    <tr>\n",
       "      <th>19</th>\n",
       "      <td>380</td>\n",
       "      <td>53871</td>\n",
       "      <td>Half-Life 2: Episode One</td>\n",
       "    </tr>\n",
       "    <tr>\n",
       "      <th>26</th>\n",
       "      <td>620</td>\n",
       "      <td>51767</td>\n",
       "      <td>Portal 2</td>\n",
       "    </tr>\n",
       "    <tr>\n",
       "      <th>6</th>\n",
       "      <td>70</td>\n",
       "      <td>51653</td>\n",
       "      <td>Half-Life</td>\n",
       "    </tr>\n",
       "    <tr>\n",
       "      <th>22</th>\n",
       "      <td>440</td>\n",
       "      <td>51213</td>\n",
       "      <td>Team Fortress 2</td>\n",
       "    </tr>\n",
       "  </tbody>\n",
       "</table>\n",
       "</div>"
      ],
      "text/plain": [
       "      app_id  Downloads                  App Name\n",
       "17       340      97485   Half-Life 2: Lost Coast\n",
       "13       240      89539    Counter-Strike: Source\n",
       "16       320      81463   Half-Life 2: Deathmatch\n",
       "12       220      79254               Half-Life 2\n",
       "20       400      71858                    Portal\n",
       "0         10      67586            Counter-Strike\n",
       "24       550      64161             Left 4 Dead 2\n",
       "2296  223530      63891        Left 4 Dead 2 Beta\n",
       "2         30      56089             Day of Defeat\n",
       "3         40      55431        Deathmatch Classic\n",
       "5         60      55089                  Ricochet\n",
       "19       380      53871  Half-Life 2: Episode One\n",
       "26       620      51767                  Portal 2\n",
       "6         70      51653                 Half-Life\n",
       "22       440      51213           Team Fortress 2"
      ]
     },
     "execution_count": 14,
     "metadata": {},
     "output_type": "execute_result"
    }
   ],
   "source": [
    "# Get most popular games\n",
    "game_downloads = data[['app_id','interact']].groupby('app_id', as_index=False).sum()\n",
    "game_downloads.rename(columns = {'interact':'Downloads'},inplace=True)\n",
    "game_downloads.sort_values(by='Downloads', ascending=False, inplace=True)\n",
    "\n",
    "pd.options.mode.chained_assignment = None  # hide a warning\n",
    "top_15 = game_downloads.iloc[:15]\n",
    "app_dict = {340: 'Half-Life 2: Lost Coast', 240:'Counter-Strike: Source', 320:'Half-Life 2: Deathmatch',\n",
    "            220:'Half-Life 2', 400:'Portal', 10:'Counter-Strike',\n",
    "            550:'Left 4 Dead 2', 223530:'Left 4 Dead 2 Beta', 30:'Day of Defeat',\n",
    "            40:'Deathmatch Classic',60:'Ricochet', 380:'Half-Life 2: Episode One',\n",
    "            70:'Half-Life', 620: 'Portal 2', 440:'Team Fortress 2' ,}\n",
    "top_15['App Name'] = [app_dict[app_id] for app_id in top_15['app_id']]\n",
    "top_15"
   ]
  },
  {
   "cell_type": "code",
   "execution_count": null,
   "metadata": {},
   "outputs": [],
   "source": []
  }
 ],
 "metadata": {
  "kernelspec": {
   "display_name": "Python 3",
   "language": "python",
   "name": "python3"
  },
  "language_info": {
   "codemirror_mode": {
    "name": "ipython",
    "version": 3
   },
   "file_extension": ".py",
   "mimetype": "text/x-python",
   "name": "python",
   "nbconvert_exporter": "python",
   "pygments_lexer": "ipython3",
   "version": "3.7.6"
  }
 },
 "nbformat": 4,
 "nbformat_minor": 4
}
